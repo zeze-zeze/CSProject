{
 "cells": [
  {
   "cell_type": "code",
   "execution_count": 1,
   "metadata": {},
   "outputs": [],
   "source": [
    "import numpy as np\n",
    "\n",
    "import asm2vec.asm\n",
    "import asm2vec.parse\n",
    "import asm2vec.model\n",
    "import random\n",
    "import os"
   ]
  },
  {
   "cell_type": "code",
   "execution_count": 2,
   "metadata": {},
   "outputs": [],
   "source": [
    "TRAINDATA_DIR = 'testcase/coreutils_O2/'\n",
    "TESTDATA_TEST_DIR = 'testcase/coreutils_Ori/'\n",
    "TESTDATA_CONTROL_DIR = 'testcase/coreutils_O2/'\n",
    "TARGET_FUNCTION = '<main>'\n",
    "RANK_TOP = 100\n",
    "\n",
    "jmp_op = [\n",
    "    'jmp', 'ja', 'jae', 'jb', 'jbe', 'jc', 'jcxz', 'jecxz', 'jrcxz', 'je', 'jg', 'jge', 'jl', 'jle', 'jna',\n",
    "    'jnae', 'jnb', 'jnbe', 'jnc', 'jne', 'jng', 'jnge', 'jnl', 'jnle', 'jno', 'jnp', 'jns', 'jnz', 'jo', 'jp',\n",
    "    'jpe', 'jpo', 'js', 'jz'\n",
    "]"
   ]
  },
  {
   "cell_type": "code",
   "execution_count": 3,
   "metadata": {},
   "outputs": [],
   "source": [
    "def cosine_similarity(v1, v2):\n",
    "    return np.dot(v1, v2) / (np.linalg.norm(v1) * np.linalg.norm(v2))"
   ]
  },
  {
   "cell_type": "code",
   "execution_count": 4,
   "metadata": {},
   "outputs": [],
   "source": [
    "##############################################\n",
    "# check_filetype(str)\n",
    "# parameter: a binary file with relative or absolute path\n",
    "# return: boolean\n",
    "##############################################\n",
    "def check_filetype(f):\n",
    "    targets = ['ELF']\n",
    "    for target in targets:\n",
    "        if target in os.popen('file {}'.format(f)).read():\n",
    "            return True\n",
    "    return False"
   ]
  },
  {
   "cell_type": "code",
   "execution_count": 5,
   "metadata": {},
   "outputs": [],
   "source": [
    "##############################################\n",
    "# objdump(str)\n",
    "# parameter: a binary file with relative or absolute path\n",
    "# return: assembly disassembled by objdump\n",
    "##############################################\n",
    "def objdump(f):\n",
    "    os.system('objdump -M intel -d {} -j .text --no-show-raw-insn > tmp'.format(f))\n",
    "    asm = open('tmp').read()\n",
    "    os.system('rm tmp')\n",
    "    return asm"
   ]
  },
  {
   "cell_type": "code",
   "execution_count": 6,
   "metadata": {},
   "outputs": [],
   "source": [
    "##############################################\n",
    "# parse_objdump(str, str)\n",
    "# parameter: binary disassembled by objdump, the function name containing the specific string\n",
    "# return: a list of functions' instructions\n",
    "##############################################\n",
    "def parse_objdump(objdump_asm, target=''):\n",
    "    funcs = []\n",
    "    instructions = []\n",
    "    start = False\n",
    "    for asm in objdump_asm.split('\\n'):\n",
    "        if len(asm) and asm[0] == '0':\n",
    "            if target and target not in asm:\n",
    "                start = False\n",
    "            else:\n",
    "                start = True\n",
    "                \n",
    "            if len(instructions) > 5:\n",
    "                for ins in instructions:\n",
    "                    if len(ins) > 1 and ins[1] in jmp_op:\n",
    "                        address = ins[2]\n",
    "                        try:\n",
    "                            int(address, 16)\n",
    "                            i = 0\n",
    "                            while i < len(instructions):\n",
    "                                if address == instructions[i][0][:-1] and not '.LABEL' in instructions[i-1][0]:\n",
    "                                    label = ['.LABEL{}:'.format(random.randint(10000000, 100000000))]\n",
    "                                    instructions.insert(i, label)\n",
    "                                    ins[2] = label\n",
    "\n",
    "                                elif address == instructions[i][0][:-1] and '.LABEL' in instructions[i-1][0]:\n",
    "                                    ins[2] = instructions[i-1][0][:-1]\n",
    "                                    for j in range(3, len(ins)):\n",
    "                                        ins[j] = ''\n",
    "                                i += 1\n",
    "                        except:\n",
    "                            pass\n",
    "                for i in range(len(instructions)):\n",
    "                    if '.LABEL' not in instructions[i][0]:\n",
    "                        instructions[i] = '\\t' + '\\t'.join(instructions[i][1:]) + '\\n'\n",
    "                    else:\n",
    "                        instructions[i] = instructions[i][0] + '\\n'\n",
    "                funcs.append(''.join(instructions))\n",
    "            instructions = []\n",
    "                        \n",
    "        elif start and asm:\n",
    "            instructions.append(asm.split())\n",
    "    return funcs"
   ]
  },
  {
   "cell_type": "code",
   "execution_count": 7,
   "metadata": {},
   "outputs": [],
   "source": [
    "##############################################\n",
    "# prepend_function_name(list)\n",
    "# parameter: a list of instructions in functions\n",
    "# return: a string of functions with function name, the number of functions\n",
    "##############################################\n",
    "def prepend_function_name(funcs):\n",
    "    str_funcs = ''\n",
    "    funcs = list(set(funcs))\n",
    "    for i in range(len(funcs)):\n",
    "        str_funcs += 'func{}:\\n'.format(i) + funcs[i]\n",
    "    return str_funcs, len(funcs)"
   ]
  },
  {
   "cell_type": "code",
   "execution_count": 8,
   "metadata": {
    "scrolled": false
   },
   "outputs": [],
   "source": [
    "##############################################\n",
    "# parse_asm2vec(str, int)\n",
    "# parameter: a file containing a number of parsed objdump functions of assembly\n",
    "# return: a list of all asm2vec parsed function\n",
    "##############################################\n",
    "def parse_asm2vec(f, function_length):\n",
    "    func_names = ['func{}'.format(i) for i in range(function_length)]\n",
    "    data = asm2vec.parse.parse(f, func_names=func_names)\n",
    "    return data"
   ]
  },
  {
   "cell_type": "code",
   "execution_count": 9,
   "metadata": {},
   "outputs": [
    {
     "data": {
      "text/plain": [
       "8811"
      ]
     },
     "execution_count": 9,
     "metadata": {},
     "output_type": "execute_result"
    }
   ],
   "source": [
    "asm = objdump('training/echo')\n",
    "funcs = parse_objdump(asm, '<main>')\n",
    "str_funcs, l = prepend_function_name(funcs)\n",
    "open('str_funcs', 'w').write(str_funcs)\n",
    "#data = parse_asm2vec('str_funcs', l)\n",
    "#model = asm2vec.model.Asm2Vec(d=200)\n",
    "#training_repo = model.make_function_repo(data)\n",
    "#model.train(training_repo)"
   ]
  },
  {
   "cell_type": "code",
   "execution_count": 9,
   "metadata": {},
   "outputs": [],
   "source": [
    "##############################################\n",
    "# one_file(str, str)\n",
    "# parameter: a binary, target function\n",
    "# return: asm2vec parsed data\n",
    "##############################################\n",
    "def one_file(f, target=''):\n",
    "    if not check_filetype(f): return\n",
    "    asm = objdump(f)\n",
    "    funcs = parse_objdump(asm, target)\n",
    "    str_funcs, funcs_length = prepend_function_name(funcs)\n",
    "    open('str_funcs', 'w').write(str_funcs)\n",
    "    data = parse_asm2vec('str_funcs', funcs_length)\n",
    "    return data"
   ]
  },
  {
   "cell_type": "code",
   "execution_count": 10,
   "metadata": {},
   "outputs": [],
   "source": [
    "##############################################\n",
    "# multiple_file(str)\n",
    "# parameter: directory name, target function\n",
    "# return: asm2vec parsed data\n",
    "##############################################\n",
    "def multiple_file(d, target=''):\n",
    "    files = os.listdir(d)\n",
    "    funcs = []\n",
    "    for file in files:\n",
    "        path = d + file\n",
    "        if not check_filetype(path): continue\n",
    "        asm = objdump(path)\n",
    "        funcs += parse_objdump(asm, target)\n",
    "    str_funcs, funcs_length = prepend_function_name(funcs)\n",
    "    open('str_funcs', 'w').write(str_funcs)\n",
    "    data = parse_asm2vec('str_funcs', funcs_length)\n",
    "    return data"
   ]
  },
  {
   "cell_type": "code",
   "execution_count": 11,
   "metadata": {},
   "outputs": [],
   "source": [
    "##############################################\n",
    "# Training\n",
    "##############################################\n",
    "train_data = multiple_file(TRAINDATA_DIR)\n",
    "model = asm2vec.model.Asm2Vec(d=200)\n",
    "training_repo = model.make_function_repo(train_data)\n",
    "model.train(training_repo)"
   ]
  },
  {
   "cell_type": "code",
   "execution_count": 12,
   "metadata": {},
   "outputs": [],
   "source": [
    "##############################################\n",
    "# Testing\n",
    "##############################################\n",
    "testdir = os.listdir(TESTDATA_TEST_DIR)\n",
    "testfile2target = {}\n",
    "for f in testdir:\n",
    "    path = TESTDATA_TEST_DIR + f\n",
    "    if not check_filetype(path):\n",
    "        continue\n",
    "    data = one_file(path, TARGET_FUNCTION)\n",
    "    if data:\n",
    "        testfile2target[f] = model.to_vec(data[0])\n",
    "\n",
    "traindir = os.listdir(TESTDATA_CONTROL_DIR)\n",
    "trainfile2target = {}\n",
    "for f in traindir:\n",
    "    path = TESTDATA_CONTROL_DIR + f\n",
    "    if not check_filetype(path):\n",
    "        continue\n",
    "    data = one_file(path, TARGET_FUNCTION)\n",
    "    if data:\n",
    "        assert len(data) == 1\n",
    "        trainfile2target[f] = model.to_vec(data[0])"
   ]
  },
  {
   "cell_type": "code",
   "execution_count": 13,
   "metadata": {},
   "outputs": [],
   "source": [
    "RANK_TOP = len(testfile2target)\n",
    "rank = {}\n",
    "\n",
    "for first in trainfile2target:\n",
    "    rank[first] = {}\n",
    "    for second in testfile2target:\n",
    "        sim = cosine_similarity(trainfile2target[first], testfile2target[second])\n",
    "        rank[first][second] = sim"
   ]
  },
  {
   "cell_type": "code",
   "execution_count": 14,
   "metadata": {},
   "outputs": [
    {
     "name": "stdout",
     "output_type": "stream",
     "text": [
      "b2sum 87\n",
      "base32 101\n",
      "base64 99\n",
      "basename 21\n",
      "basenc 93\n",
      "cat 43\n",
      "chcon 5\n",
      "chgrp 25\n",
      "chmod 53\n",
      "chown 38\n",
      "chroot 71\n",
      "cksum 23\n",
      "comm 41\n",
      "cp 94\n",
      "csplit 8\n",
      "cut 20\n",
      "date 89\n",
      "dd 23\n",
      "df 49\n",
      "dir 19\n",
      "dircolors 3\n",
      "dirname 46\n",
      "du 84\n",
      "echo 0\n",
      "env 23\n",
      "expand 102\n",
      "expr 43\n",
      "factor 56\n",
      "false 106\n",
      "fmt 58\n",
      "fold 71\n",
      "getlimits 112\n",
      "ginstall 6\n",
      "groups 88\n",
      "head 0\n",
      "hostid 17\n",
      "id 12\n",
      "join 49\n",
      "kill 19\n",
      "link 50\n",
      "ln 5\n",
      "logname 60\n",
      "ls 18\n",
      "make-prime-list 117\n",
      "md5sum 89\n",
      "mkdir 53\n",
      "mkfifo 35\n",
      "mknod 27\n",
      "mktemp 112\n",
      "mv 30\n",
      "nice 113\n",
      "nl 44\n",
      "nohup 37\n",
      "nproc 18\n",
      "numfmt 93\n",
      "od 4\n",
      "paste 33\n",
      "pathchk 69\n",
      "pinky 88\n",
      "pr 75\n",
      "printenv 110\n",
      "printf 92\n",
      "ptx 40\n",
      "pwd 39\n",
      "readlink 24\n",
      "realpath 108\n",
      "rm 75\n",
      "rmdir 39\n",
      "runcon 55\n",
      "seq 14\n",
      "sha1sum 95\n",
      "sha224sum 103\n",
      "sha256sum 104\n",
      "sha384sum 102\n",
      "sha512sum 101\n",
      "shred 30\n",
      "shuf 108\n",
      "sleep 6\n",
      "sort 41\n",
      "split 47\n",
      "stat 56\n",
      "stdbuf 4\n",
      "stty 4\n",
      "sum 82\n",
      "sync 2\n",
      "tac 68\n",
      "tail 35\n",
      "tee 97\n",
      "test 5\n",
      "timeout 13\n",
      "touch 68\n",
      "tr 40\n",
      "true 37\n",
      "truncate 43\n",
      "tsort 51\n",
      "tty 105\n",
      "uname 116\n",
      "unexpand 70\n",
      "uniq 65\n",
      "unlink 56\n",
      "uptime 29\n",
      "users 25\n",
      "vdir 23\n",
      "wc 106\n",
      "who 80\n",
      "whoami 21\n",
      "yes 24\n",
      "[ 33\n"
     ]
    }
   ],
   "source": [
    "for r in rank:\n",
    "    after_sort = sorted(rank[r].items(), key=lambda x:x[1], reverse=True)\n",
    "    for a in range(len(after_sort)):\n",
    "        if r == after_sort[a][0]:\n",
    "            print(r, a)\n",
    "            break"
   ]
  },
  {
   "cell_type": "markdown",
   "metadata": {},
   "source": [
    "check = 'wc'\n",
    "cosine_similarity(trainfile2target[check], testfile2target[check])"
   ]
  },
  {
   "cell_type": "code",
   "execution_count": null,
   "metadata": {},
   "outputs": [],
   "source": []
  }
 ],
 "metadata": {
  "kernelspec": {
   "display_name": "Python 3",
   "language": "python",
   "name": "python3"
  },
  "language_info": {
   "codemirror_mode": {
    "name": "ipython",
    "version": 3
   },
   "file_extension": ".py",
   "mimetype": "text/x-python",
   "name": "python",
   "nbconvert_exporter": "python",
   "pygments_lexer": "ipython3",
   "version": "3.8.2"
  }
 },
 "nbformat": 4,
 "nbformat_minor": 4
}
