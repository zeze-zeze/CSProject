{
 "cells": [
  {
   "cell_type": "code",
   "execution_count": 1,
   "metadata": {},
   "outputs": [],
   "source": [
    "import numpy as np\n",
    "\n",
    "import asm2vec.asm\n",
    "import asm2vec.parse\n",
    "import asm2vec.model\n",
    "import random\n",
    "import os"
   ]
  },
  {
   "cell_type": "code",
   "execution_count": 2,
   "metadata": {},
   "outputs": [],
   "source": [
    "TRAINDATA_DIR = '/bin/'\n",
    "TESTDATA_TEST_DIR = 'testcase/coreutils_Ori/'\n",
    "TESTDATA_CONTROL_DIR = 'testcase/coreutils_O2/'\n",
    "TARGET_FUNCTION = '<main>'\n",
    "RANK_TOP = 100\n",
    "\n",
    "jmp_op = [\n",
    "    'jmp', 'ja', 'jae', 'jb', 'jbe', 'jc', 'jcxz', 'jecxz', 'jrcxz', 'je', 'jg', 'jge', 'jl', 'jle', 'jna',\n",
    "    'jnae', 'jnb', 'jnbe', 'jnc', 'jne', 'jng', 'jnge', 'jnl', 'jnle', 'jno', 'jnp', 'jns', 'jnz', 'jo', 'jp',\n",
    "    'jpe', 'jpo', 'js', 'jz'\n",
    "]"
   ]
  },
  {
   "cell_type": "code",
   "execution_count": 3,
   "metadata": {},
   "outputs": [],
   "source": [
    "def cosine_similarity(v1, v2):\n",
    "    return np.dot(v1, v2) / (np.linalg.norm(v1) * np.linalg.norm(v2))"
   ]
  },
  {
   "cell_type": "code",
   "execution_count": 4,
   "metadata": {},
   "outputs": [],
   "source": [
    "##############################################\n",
    "# check_filetype(str)\n",
    "# parameter: a binary file with relative or absolute path\n",
    "# return: boolean\n",
    "##############################################\n",
    "def check_filetype(f):\n",
    "    targets = ['ELF']\n",
    "    for target in targets:\n",
    "        if target in os.popen('file {}'.format(f)).read():\n",
    "            return True\n",
    "    return False"
   ]
  },
  {
   "cell_type": "code",
   "execution_count": 5,
   "metadata": {},
   "outputs": [],
   "source": [
    "##############################################\n",
    "# objdump(str)\n",
    "# parameter: a binary file with relative or absolute path\n",
    "# return: assembly disassembled by objdump\n",
    "##############################################\n",
    "def objdump(f):\n",
    "    os.system('objdump -M intel -d {} -j .text --no-show-raw-insn > tmp'.format(f))\n",
    "    asm = open('tmp').read()\n",
    "    os.system('rm tmp')\n",
    "    return asm"
   ]
  },
  {
   "cell_type": "code",
   "execution_count": 6,
   "metadata": {},
   "outputs": [],
   "source": [
    "##############################################\n",
    "# parse_objdump(str, str)\n",
    "# parameter: binary disassembled by objdump, the function name containing the specific string\n",
    "# return: a list of functions' instructions\n",
    "##############################################\n",
    "def parse_objdump(objdump_asm, target=''):\n",
    "    funcs = []\n",
    "    instructions = []\n",
    "    start = False\n",
    "    for asm in objdump_asm.split('\\n'):\n",
    "        if len(asm) and asm[0] == '0':\n",
    "            if target and target not in asm:\n",
    "                start = False\n",
    "            else:\n",
    "                start = True\n",
    "                \n",
    "            if len(instructions) > 5:\n",
    "                for ins in instructions:\n",
    "                    if len(ins) > 1 and ins[1] in jmp_op:\n",
    "                        address = ins[2]\n",
    "                        try:\n",
    "                            int(address, 16)\n",
    "                            i = 0\n",
    "                            while i < len(instructions):\n",
    "                                if address == instructions[i][0][:-1] and not '.LABEL' in instructions[i-1][0]:\n",
    "                                    label = ['.LABEL{}:'.format(random.randint(10000000, 100000000))]\n",
    "                                    instructions.insert(i, label)\n",
    "                                    ins[2] = label\n",
    "\n",
    "                                elif address == instructions[i][0][:-1] and '.LABEL' in instructions[i-1][0]:\n",
    "                                    ins[2] = instructions[i-1][0][:-1]\n",
    "                                    for j in range(3, len(ins)):\n",
    "                                        ins[j] = ''\n",
    "                                i += 1\n",
    "                        except:\n",
    "                            pass\n",
    "                for i in range(len(instructions)):\n",
    "                    if '.LABEL' not in instructions[i][0]:\n",
    "                        instructions[i] = '\\t' + '\\t'.join(instructions[i][1:]) + '\\n'\n",
    "                    else:\n",
    "                        instructions[i] = instructions[i][0] + '\\n'\n",
    "                funcs.append(''.join(instructions))\n",
    "            instructions = []\n",
    "                        \n",
    "        elif start and asm:\n",
    "            instructions.append(asm.split())\n",
    "    return funcs"
   ]
  },
  {
   "cell_type": "code",
   "execution_count": 7,
   "metadata": {},
   "outputs": [],
   "source": [
    "##############################################\n",
    "# prepend_function_name(list)\n",
    "# parameter: a list of instructions in functions\n",
    "# return: a string of functions with function name, the number of functions\n",
    "##############################################\n",
    "def prepend_function_name(funcs):\n",
    "    str_funcs = ''\n",
    "    funcs = list(set(funcs))\n",
    "    for i in range(len(funcs)):\n",
    "        str_funcs += 'func{}:\\n'.format(i) + funcs[i]\n",
    "    return str_funcs, len(funcs)"
   ]
  },
  {
   "cell_type": "code",
   "execution_count": 8,
   "metadata": {
    "scrolled": false
   },
   "outputs": [],
   "source": [
    "##############################################\n",
    "# parse_asm2vec(str, int)\n",
    "# parameter: a file containing a number of parsed objdump functions of assembly\n",
    "# return: a list of all asm2vec parsed function\n",
    "##############################################\n",
    "def parse_asm2vec(f, function_length):\n",
    "    func_names = ['func{}'.format(i) for i in range(function_length)]\n",
    "    data = asm2vec.parse.parse(f, func_names=func_names)\n",
    "    return data"
   ]
  },
  {
   "cell_type": "code",
   "execution_count": 9,
   "metadata": {},
   "outputs": [
    {
     "data": {
      "text/plain": [
       "8811"
      ]
     },
     "execution_count": 9,
     "metadata": {},
     "output_type": "execute_result"
    }
   ],
   "source": [
    "asm = objdump('training/echo')\n",
    "funcs = parse_objdump(asm, '<main>')\n",
    "str_funcs, l = prepend_function_name(funcs)\n",
    "open('str_funcs', 'w').write(str_funcs)\n",
    "#data = parse_asm2vec('str_funcs', l)\n",
    "#model = asm2vec.model.Asm2Vec(d=200)\n",
    "#training_repo = model.make_function_repo(data)\n",
    "#model.train(training_repo)"
   ]
  },
  {
   "cell_type": "code",
   "execution_count": 9,
   "metadata": {},
   "outputs": [],
   "source": [
    "##############################################\n",
    "# one_file(str, str)\n",
    "# parameter: a binary, target function\n",
    "# return: asm2vec parsed data\n",
    "##############################################\n",
    "def one_file(f, target=''):\n",
    "    if not check_filetype(f): return\n",
    "    asm = objdump(f)\n",
    "    funcs = parse_objdump(asm, target)\n",
    "    str_funcs, funcs_length = prepend_function_name(funcs)\n",
    "    open('str_funcs', 'w').write(str_funcs)\n",
    "    data = parse_asm2vec('str_funcs', funcs_length)\n",
    "    return data"
   ]
  },
  {
   "cell_type": "code",
   "execution_count": 10,
   "metadata": {},
   "outputs": [],
   "source": [
    "##############################################\n",
    "# multiple_file(str)\n",
    "# parameter: directory name, target function\n",
    "# return: asm2vec parsed data\n",
    "##############################################\n",
    "def multiple_file(d, target=''):\n",
    "    files = os.listdir(d)\n",
    "    funcs = []\n",
    "    for file in files:\n",
    "        path = d + file\n",
    "        if not check_filetype(path): continue\n",
    "        asm = objdump(path)\n",
    "        funcs += parse_objdump(asm, target)\n",
    "    str_funcs, funcs_length = prepend_function_name(funcs)\n",
    "    open('str_funcs', 'w').write(str_funcs)\n",
    "    data = parse_asm2vec('str_funcs', funcs_length)\n",
    "    return data"
   ]
  },
  {
   "cell_type": "code",
   "execution_count": null,
   "metadata": {},
   "outputs": [],
   "source": [
    "##############################################\n",
    "# Training\n",
    "##############################################\n",
    "train_data = multiple_file(TRAINDATA_DIR)\n",
    "model = asm2vec.model.Asm2Vec(d=200)\n",
    "training_repo = model.make_function_repo(train_data)\n",
    "model.train(training_repo)"
   ]
  },
  {
   "cell_type": "code",
   "execution_count": null,
   "metadata": {},
   "outputs": [],
   "source": [
    "##############################################\n",
    "# Testing\n",
    "##############################################\n",
    "testdir = os.listdir(TESTDATA_TEST_DIR)\n",
    "testfile2target = {}\n",
    "for f in testdir:\n",
    "    path = TESTDATA_TEST_DIR + f\n",
    "    if not check_filetype(path):\n",
    "        continue\n",
    "    data = one_file(path, TARGET_FUNCTION)\n",
    "    if data:\n",
    "        testfile2target[f] = model.to_vec(data[0])\n",
    "\n",
    "traindir = os.listdir(TESTDATA_CONTROL_DIR)\n",
    "trainfile2target = {}\n",
    "for f in traindir:\n",
    "    path = TESTDATA_CONTROL_DIR + f\n",
    "    if not check_filetype(path):\n",
    "        continue\n",
    "    data = one_file(path, TARGET_FUNCTION)\n",
    "    if data:\n",
    "        assert len(data) == 1\n",
    "        trainfile2target[f] = model.to_vec(data[0])"
   ]
  },
  {
   "cell_type": "code",
   "execution_count": null,
   "metadata": {},
   "outputs": [],
   "source": [
    "RANK_TOP = len(testfile2target)\n",
    "rank = {}\n",
    "\n",
    "for first in testfile2target:\n",
    "    rank[first] = {}\n",
    "    for second in trainfile2target:\n",
    "        sim = cosine_similarity(testfile2target[first], trainfile2target[second])\n",
    "        rank[first][second] = sim"
   ]
  },
  {
   "cell_type": "code",
   "execution_count": null,
   "metadata": {},
   "outputs": [],
   "source": [
    "for r in rank:\n",
    "    after_sort = sorted(rank[r].items(), key=lambda x:x[1], reverse=True)\n",
    "    for a in range(len(after_sort)):\n",
    "        if r == after_sort[a][0]:\n",
    "            print(r, a, after_sort[a][1])\n",
    "            break"
   ]
  },
  {
   "cell_type": "code",
   "execution_count": 35,
   "metadata": {},
   "outputs": [
    {
     "data": {
      "text/plain": [
       "0.9975475345141777"
      ]
     },
     "execution_count": 35,
     "metadata": {},
     "output_type": "execute_result"
    }
   ],
   "source": [
    "check = '' \n",
    "cosine_similarity(trainfile2target['head'], testfile2target['ls'])"
   ]
  },
  {
   "cell_type": "code",
   "execution_count": 33,
   "metadata": {},
   "outputs": [],
   "source": [
    "import pickle\n",
    "pickle.dump(rank, open('log/{}.pkl'.format(''), 'wb'))"
   ]
  },
  {
   "cell_type": "code",
   "execution_count": 36,
   "metadata": {},
   "outputs": [],
   "source": [
    "import pickle\n",
    "pickle.dump(model, open('log/model_{}.pkl'.format('202012170335'), 'wb'))"
   ]
  },
  {
   "cell_type": "code",
   "execution_count": null,
   "metadata": {},
   "outputs": [],
   "source": []
  }
 ],
 "metadata": {
  "kernelspec": {
   "display_name": "Python 3",
   "language": "python",
   "name": "python3"
  },
  "language_info": {
   "codemirror_mode": {
    "name": "ipython",
    "version": 3
   },
   "file_extension": ".py",
   "mimetype": "text/x-python",
   "name": "python",
   "nbconvert_exporter": "python",
   "pygments_lexer": "ipython3",
   "version": "3.8.2"
  }
 },
 "nbformat": 4,
 "nbformat_minor": 4
}
